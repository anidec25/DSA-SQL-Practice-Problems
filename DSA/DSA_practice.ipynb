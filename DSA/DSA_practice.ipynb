{
 "cells": [
  {
   "cell_type": "code",
   "execution_count": 53,
   "metadata": {},
   "outputs": [
    {
     "name": "stdout",
     "output_type": "stream",
     "text": [
      "[0, 0, 0, 1, 10, 20, -1, 59, 63, 88]\n"
     ]
    }
   ],
   "source": [
    "a = [1,10,20,0,-1,59,63,0,88,0]\n",
    "\n",
    "count = 0\n",
    "for i in range(len(a)):\n",
    "    if a[i] == 0:\n",
    "        count += 1\n",
    "\n",
    "a = list(filter(lambda x : x != 0,a))\n",
    "    \n",
    "for i in range(count):\n",
    "    a.insert(i,0)\n",
    "\n",
    "print(a)"
   ]
  },
  {
   "cell_type": "code",
   "execution_count": null,
   "metadata": {},
   "outputs": [],
   "source": [
    "s = \"is2 sentence4 This1 a3\"\n",
    "\n",
    "mydict = {}\n",
    "\n",
    "for i in range()"
   ]
  },
  {
   "cell_type": "code",
   "execution_count": 77,
   "metadata": {},
   "outputs": [],
   "source": [
    "# Q: Best time to buy and sell stocks\n",
    "\n",
    "price = [7,1,5,3,6,4]\n",
    "\n",
    "def max_profit(price):\n",
    "    max_diff = 0\n",
    "    buy = 0\n",
    "    sell = 0\n",
    "\n",
    "    for i in range(len(price)):\n",
    "        for j in range(len(price)):\n",
    "            if i == j:\n",
    "                pass \n",
    "            else:\n",
    "                if i < j:\n",
    "                    diff = price[j] - price[i]\n",
    "                    if diff > max_diff:\n",
    "                        max_diff = diff\n",
    "                        buy = price[i]\n",
    "                        sell = price[j]\n",
    "                \n",
    "    print(max_diff,buy, sell)\n"
   ]
  },
  {
   "cell_type": "code",
   "execution_count": 78,
   "metadata": {},
   "outputs": [
    {
     "name": "stdout",
     "output_type": "stream",
     "text": [
      "5 1 6\n"
     ]
    }
   ],
   "source": [
    "max_profit(price)"
   ]
  },
  {
   "attachments": {},
   "cell_type": "markdown",
   "metadata": {},
   "source": [
    "![Alt text](../../../../../../var/folders/8_/hmt6q4v93qqfmqktx7y0vhkc0000gn/T/TemporaryItems/NSIRD_screencaptureui_fpu4y7/Screenshot%202023-05-28%20at%204.20.14%20PM.png)"
   ]
  },
  {
   "cell_type": "code",
   "execution_count": 5,
   "metadata": {},
   "outputs": [
    {
     "name": "stdout",
     "output_type": "stream",
     "text": [
      "3 12\n"
     ]
    }
   ],
   "source": [
    "## Two Sum: \n",
    "\n",
    "arr = [3,7,8,12,19]\n",
    "target = 15\n",
    "\n",
    "i = 0 \n",
    "j = len(arr) - 1 \n",
    "\n",
    "while i < j: \n",
    "\n",
    "    if arr[i] + arr[j] == target:\n",
    "        print(arr[i],arr[j])\n",
    "        break\n",
    "    elif arr[i] + arr[j] > target:\n",
    "        j -= 1\n",
    "    else:\n",
    "        i += 1\n",
    "    \n"
   ]
  },
  {
   "cell_type": "code",
   "execution_count": null,
   "metadata": {},
   "outputs": [],
   "source": []
  }
 ],
 "metadata": {
  "kernelspec": {
   "display_name": "base",
   "language": "python",
   "name": "python3"
  },
  "language_info": {
   "codemirror_mode": {
    "name": "ipython",
    "version": 3
   },
   "file_extension": ".py",
   "mimetype": "text/x-python",
   "name": "python",
   "nbconvert_exporter": "python",
   "pygments_lexer": "ipython3",
   "version": "3.10.9"
  },
  "orig_nbformat": 4,
  "vscode": {
   "interpreter": {
    "hash": "1e287c795756e004cbc239a0cd2370360bfb1c5c74b3b718d3796ac64793fd0d"
   }
  }
 },
 "nbformat": 4,
 "nbformat_minor": 2
}
