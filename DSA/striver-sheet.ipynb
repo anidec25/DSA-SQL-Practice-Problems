{
 "cells": [
  {
   "cell_type": "markdown",
   "metadata": {},
   "source": [
    "Problem Statement: Given a matrix if an element in the matrix is 0 then you will have to set its entire column and row to 0 and then return the matrix."
   ]
  },
  {
   "cell_type": "code",
   "execution_count": 28,
   "metadata": {},
   "outputs": [
    {
     "name": "stdout",
     "output_type": "stream",
     "text": [
      "[(0, 0), (0, 3)]\n"
     ]
    }
   ],
   "source": [
    "matrix=[[0,1,2,0],\n",
    "        [3,4,5,2],\n",
    "        [1,3,1,5]]\n",
    "\n",
    "col = len(matrix[0])\n",
    "row = len(matrix)\n",
    "\n",
    "zero_tuple = []\n",
    "\n",
    "for i in range(row):\n",
    "    for j in range(col):\n",
    "        if matrix[i][j] == 0:\n",
    "            zero_tuple.append((i,j))\n",
    "\n",
    "print(zero_tuple)\n"
   ]
  },
  {
   "cell_type": "code",
   "execution_count": 29,
   "metadata": {},
   "outputs": [
    {
     "data": {
      "text/plain": [
       "3"
      ]
     },
     "execution_count": 29,
     "metadata": {},
     "output_type": "execute_result"
    }
   ],
   "source": [
    "len(matrix)"
   ]
  },
  {
   "cell_type": "code",
   "execution_count": 31,
   "metadata": {},
   "outputs": [
    {
     "name": "stdout",
     "output_type": "stream",
     "text": [
      "The Final matrix is:\n",
      "0 0 0 0 \n",
      "0 4 5 0 \n",
      "0 3 1 0 \n"
     ]
    }
   ],
   "source": [
    "def zeroMatrix(matrix, n, m):\n",
    "    row = [0] * n  # row array\n",
    "    col = [0] * m  # col array\n",
    "\n",
    "    # Traverse the matrix:\n",
    "    for i in range(n):\n",
    "        for j in range(m):\n",
    "            if matrix[i][j] == 0:\n",
    "                # mark ith index of row wih 1:\n",
    "                row[i] = 1\n",
    "\n",
    "                # mark jth index of col wih 1:\n",
    "                col[j] = 1\n",
    "\n",
    "    # Finally, mark all (i, j) as 0\n",
    "    # if row[i] or col[j] is marked with 1.\n",
    "    for i in range(n):\n",
    "        for j in range(m):\n",
    "            if row[i] or col[j]:\n",
    "                matrix[i][j] = 0\n",
    "\n",
    "    return matrix\n",
    "\n",
    "    # print(row)\n",
    "    # print(col)\n",
    "\n",
    "\n",
    "if __name__ == \"__main__\":\n",
    "\tmatrix = [[0,1,2,0],[3,4,5,2],[1,3,1,5]]\n",
    "\tn = len(matrix)\n",
    "\tm = len(matrix[0])\n",
    "\tans = zeroMatrix(matrix, n, m)\n",
    "\n",
    "\tprint(\"The Final matrix is:\")\n",
    "\tfor row in ans:\n",
    "\t    for ele in row:\n",
    "\t        print(ele, end=\" \")\n",
    "\t    print()"
   ]
  },
  {
   "cell_type": "code",
   "execution_count": null,
   "metadata": {},
   "outputs": [],
   "source": []
  }
 ],
 "metadata": {
  "kernelspec": {
   "display_name": "minimal_ds",
   "language": "python",
   "name": "python3"
  },
  "language_info": {
   "codemirror_mode": {
    "name": "ipython",
    "version": 3
   },
   "file_extension": ".py",
   "mimetype": "text/x-python",
   "name": "python",
   "nbconvert_exporter": "python",
   "pygments_lexer": "ipython3",
   "version": "3.10.9"
  },
  "orig_nbformat": 4
 },
 "nbformat": 4,
 "nbformat_minor": 2
}
