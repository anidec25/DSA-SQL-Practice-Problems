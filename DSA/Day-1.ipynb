{
 "cells": [
  {
   "attachments": {},
   "cell_type": "markdown",
   "metadata": {},
   "source": [
    "781. Rabbits in Forest : https://leetcode.com/problems/rabbits-in-forest/description/"
   ]
  },
  {
   "cell_type": "code",
   "execution_count": 1,
   "metadata": {},
   "outputs": [],
   "source": [
    "answers = [1,1,2]\n",
    "#output = 5"
   ]
  },
  {
   "cell_type": "code",
   "execution_count": null,
   "metadata": {},
   "outputs": [],
   "source": [
    "items = ['apple', 'bananas','pineapple']"
   ]
  },
  {
   "cell_type": "code",
   "execution_count": null,
   "metadata": {},
   "outputs": [],
   "source": [
    "WITH caller_details as \n",
    "(\n",
    "  SELECT\n",
    "  pc.caller_id,phi.country_id caller_country,  pc.receiver_id\n",
    "  FROM phone_calls pc\n",
    "  INNER JOIN \n",
    "  phone_info phi\n",
    "  on (pc.caller_id = phi.caller_id)\n",
    "),\n",
    "\n",
    "receiver_details as \n",
    "(\n",
    "  SELECT\n",
    "  pc.receiver_id,phi.country_id receiver_country  \n",
    "  FROM phone_calls pc\n",
    "  INNER JOIN \n",
    "  phone_info phi\n",
    "  on (pc.receiver_id = phi.caller_id)\n",
    ")\n",
    "\n",
    "\n",
    "Select \n",
    "ROUND((SUM(CASE WHEN caller_country = receiver_country THEN 1 else 0 END)/count(*)) * 100.0 , 1)\n",
    "from receiver_details rd\n",
    "INNER JOIN \n",
    "caller_details cd \n",
    "on rd.receiver_id = cd.receiver_id"
   ]
  },
  {
   "cell_type": "code",
   "execution_count": null,
   "metadata": {},
   "outputs": [],
   "source": []
  }
 ],
 "metadata": {
  "kernelspec": {
   "display_name": "base",
   "language": "python",
   "name": "python3"
  },
  "language_info": {
   "codemirror_mode": {
    "name": "ipython",
    "version": 3
   },
   "file_extension": ".py",
   "mimetype": "text/x-python",
   "name": "python",
   "nbconvert_exporter": "python",
   "pygments_lexer": "ipython3",
   "version": "3.10.9"
  },
  "orig_nbformat": 4
 },
 "nbformat": 4,
 "nbformat_minor": 2
}
